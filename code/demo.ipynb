{
 "cells": [
  {
   "cell_type": "markdown",
   "id": "b17438b0",
   "metadata": {},
   "source": [
    "# Demo for testing each stage\n",
    "\n",
    "Please feel free to change q1 and q2 in the second block to test each clause. "
   ]
  },
  {
   "cell_type": "code",
   "execution_count": 1,
   "id": "ca579a52",
   "metadata": {},
   "outputs": [
    {
     "name": "stderr",
     "output_type": "stream",
     "text": [
      "SLF4J: Failed to load class \"org.slf4j.impl.StaticLoggerBinder\".\n",
      "SLF4J: Defaulting to no-operation (NOP) logger implementation\n",
      "SLF4J: See http://www.slf4j.org/codes.html#StaticLoggerBinder for further details.\n"
     ]
    }
   ],
   "source": [
    "from z3 import *\n",
    "from bool_test import QueryTest\n",
    "from test_info import *\n",
    "from utils import *\n",
    "import time\n"
   ]
  },
  {
   "cell_type": "code",
   "execution_count": 2,
   "id": "688a996d",
   "metadata": {},
   "outputs": [],
   "source": [
    "\n",
    "q1 = \"\"\"\n",
    "SELECT t2.author\n",
    "FROM inproceedings t1, authorship t2, inproceedings t3, authorship t4\n",
    "WHERE t1.yearx = t3.yearx\n",
    "AND t1.area <> t3.area\n",
    "AND t1.yearx <> 2015 \n",
    "GROUP BY t2.author, t1.booktitle\n",
    "\"\"\"\n",
    "\n",
    "q2 = \"\"\"\n",
    "SELECT t2.author\n",
    "FROM inproceedings t1, authorship t2, inproceedings t3, authorship t4\n",
    "WHERE t1.area <> t3.area \n",
    "AND t1.yearx < 2015 OR t1.yearx > 2015\n",
    "AND t1.yearx = t3.yearx\n",
    "GROUP BY t2.author, t1.area\n",
    "\"\"\"\n",
    "\n",
    "\n",
    "# q1 = \"\"\"\n",
    "# SELECT DISTINCT t2.author\n",
    "# FROM inproceedings t1, authorship t2, inproceedings t3, authorship t4\n",
    "# WHERE (t1.yearx = 1\n",
    "# AND t3.yearx = 2) \n",
    "# OR (t1.area = 'Database'\n",
    "# AND t3.area = 'ML-AI')\n",
    "# \"\"\"\n",
    "\n",
    "# q2 = \"\"\"\n",
    "# SELECT t2.author\n",
    "# FROM inproceedings t1, authorship t2, inproceedings t3, authorship t4\n",
    "# WHERE (t1.yearx = 4\n",
    "# AND (t3.yearx = 5 OR (t1.area = 'Database'\n",
    "# AND t3.area = 'ML-AI')) ) \n",
    "# OR (t1.area = 'Database'\n",
    "# AND t3.area = 'ML-AI')\n",
    "# GROUP BY t2.author\n",
    "# \"\"\"\n",
    "\n",
    "\n",
    "q1_info = QueryInfo(q1)\n",
    "q2_info = QueryInfo(q2)"
   ]
  },
  {
   "cell_type": "code",
   "execution_count": 3,
   "id": "f007dce8",
   "metadata": {},
   "outputs": [],
   "source": [
    "m = MappingInfo(q1_info, q2_info)"
   ]
  },
  {
   "cell_type": "code",
   "execution_count": 4,
   "id": "1a95223f",
   "metadata": {},
   "outputs": [
    {
     "name": "stdout",
     "output_type": "stream",
     "text": [
      "4\n"
     ]
    }
   ],
   "source": [
    "print(len(m.table_mappings))"
   ]
  },
  {
   "cell_type": "code",
   "execution_count": 5,
   "id": "34e1d952",
   "metadata": {},
   "outputs": [],
   "source": [
    "t = QueryTest(q1_info, q2_info, m.z3_var_lookup, m.table_mappings[0], m.table_mappings_reverse[0])"
   ]
  },
  {
   "cell_type": "code",
   "execution_count": 6,
   "id": "0dc61d6a",
   "metadata": {},
   "outputs": [
    {
     "name": "stdout",
     "output_type": "stream",
     "text": [
      "Number of sets of disjoint trees to explore:  28\n",
      "********* New Iteration *********\n",
      "# of necessary predicates: 5\n",
      "# of repair sites: 2\n",
      "==============================================================\n",
      "Repair Site #0: t1.area != t3.area\n",
      "Repair Site size #0: 1\n",
      "Fix #0: False\n",
      "Fix Size #0: 1\n",
      "==============================================================\n",
      "Repair Site #1: t1.yearx > 2015\n",
      "Repair Site size #1: 1\n",
      "Fix #1: (t1.area != t3.area AND t1.yearx != 2015)\n",
      "Fix Size #1: 3\n",
      "2.245651960372925\n"
     ]
    }
   ],
   "source": [
    "# This block test Qr-Hint optimized\n",
    "start = time.time()\n",
    "# t.test_where_having_min_overall_fg() # explore all repair sites and return the smallest fixes\n",
    "t.test_where_having_min_rs_ttg() # use the first valid repair sites and fixes\n",
    "end = time.time()\n",
    "print(end-start)\n",
    "# t.test_where_having_min_overall_ttg()"
   ]
  },
  {
   "cell_type": "code",
   "execution_count": 6,
   "id": "c7bb0150",
   "metadata": {},
   "outputs": [
    {
     "name": "stdout",
     "output_type": "stream",
     "text": [
      "iter len:  28\n",
      "Repair Site #0: t1.area != t3.area\n",
      "Repair Site size #0: 1\n",
      "Fix #0: t1.yearx == t3.yearx AND t1.area != t3.area\n",
      "Fix Size #0: 3\n",
      "Repair Site #1: t1.yearx > 2015\n",
      "Repair Site size #1: 1\n",
      "Fix #1: t1.area != t3.area AND t1.yearx != 2015\n",
      "Fix Size #1: 3\n",
      "1.9335548877716064\n"
     ]
    }
   ],
   "source": [
    "# This block test Qr-Hint\n",
    "start = time.time()\n",
    "# t.test_where_having_min_overall_fg()  # explore all repair sites\n",
    "t.test_where_having_min_rs_fg() # use the first valid repair sites\n",
    "end = time.time()\n",
    "print(end-start)"
   ]
  },
  {
   "cell_type": "code",
   "execution_count": 6,
   "id": "b11c7c80",
   "metadata": {},
   "outputs": [
    {
     "name": "stdout",
     "output_type": "stream",
     "text": [
      "Incorrect:  ['t1.area']\n",
      "Missing:  ['t1.booktitle']\n"
     ]
    }
   ],
   "source": [
    "# test group by\n",
    "incorrect, missing = t.test_group_by()\n",
    "print(\"Incorrect: \", incorrect)\n",
    "print(\"Missing: \", missing)"
   ]
  },
  {
   "cell_type": "code",
   "execution_count": 7,
   "id": "f6c02c14",
   "metadata": {},
   "outputs": [
    {
     "data": {
      "text/plain": [
       "([], [])"
      ]
     },
     "execution_count": 7,
     "metadata": {},
     "output_type": "execute_result"
    }
   ],
   "source": [
    "# test select\n",
    "incorrect, wrong_position, missing = t.test_select()\n",
    "print(\"Incorrect: \", incorrect)\n",
    "print(\"Correct but wrong position: \", wrong_position)\n",
    "print(\"Missing: \", missing)"
   ]
  },
  {
   "cell_type": "code",
   "execution_count": null,
   "id": "32bfe0ca",
   "metadata": {},
   "outputs": [],
   "source": []
  },
  {
   "cell_type": "code",
   "execution_count": null,
   "id": "e2d88095",
   "metadata": {},
   "outputs": [],
   "source": []
  },
  {
   "cell_type": "code",
   "execution_count": null,
   "id": "68e9a27e",
   "metadata": {},
   "outputs": [],
   "source": []
  }
 ],
 "metadata": {
  "kernelspec": {
   "display_name": "Python 3 (ipykernel)",
   "language": "python",
   "name": "python3"
  },
  "language_info": {
   "codemirror_mode": {
    "name": "ipython",
    "version": 3
   },
   "file_extension": ".py",
   "mimetype": "text/x-python",
   "name": "python",
   "nbconvert_exporter": "python",
   "pygments_lexer": "ipython3",
   "version": "3.8.3"
  }
 },
 "nbformat": 4,
 "nbformat_minor": 5
}
